{
 "cells": [
  {
   "cell_type": "markdown",
   "metadata": {},
   "source": [
    "## Download TACO data from Kaggle"
   ]
  },
  {
   "cell_type": "markdown",
   "metadata": {},
   "source": [
    "### Step 1: Create Kaggle API token"
   ]
  },
  {
   "cell_type": "markdown",
   "metadata": {},
   "source": [
    "1. If you don't have one, create a Kaggle account (https://www.kaggle.com)\n",
    "2. Visit your Kaggle account settings (https://www.kaggle.com/account/login?phase=startRegisterTab&returnUrl=%2F).\n",
    "2. Click on \"Create New API Token\".\n",
    "3. Save the downloaded `kaggle.json` file containing your username and API key, and move this `kaggle.json` file to the `data` folder of this repository."
   ]
  },
  {
   "cell_type": "code",
   "execution_count": 1,
   "metadata": {},
   "outputs": [
    {
     "name": "stdout",
     "output_type": "stream",
     "text": [
      "username                 sebastienpeytrignet\n",
      "key         ba26067cf6322ea54085bf250e1e8fac\n",
      "dtype: object\n"
     ]
    }
   ],
   "source": [
    "import os\n",
    "import pandas as pd\n",
    "\n",
    "# Store the credentials\n",
    "\n",
    "current_directory = os.getcwd()\n",
    "file_path = os.path.join(current_directory, 'kaggle.json')\n",
    "kaggle_credentials = pd.read_json(file_path, typ='series')\n",
    "print(kaggle_credentials)"
   ]
  },
  {
   "cell_type": "markdown",
   "metadata": {},
   "source": [
    "### Step 2: Save token file in local user folder"
   ]
  },
  {
   "cell_type": "markdown",
   "metadata": {},
   "source": [
    "The token needs to be saved in a folder called `.kaggle` in your user directory (`username/.kaggle`). This folder will be hidden (notice that the same starts with a `.`)."
   ]
  },
  {
   "cell_type": "code",
   "execution_count": 2,
   "metadata": {},
   "outputs": [],
   "source": [
    "# Save the .json locally in a local folder, e.g. username/.kaggle/\n",
    "token_dir = os.path.expanduser(\"~/.kaggle\")  # Path to Kaggle config directory\n",
    "os.makedirs(token_dir, exist_ok=True)  # Create directory if it doesn't exist\n",
    "\n",
    "# Write API credentials to kaggle.json file\n",
    "with open(os.path.join(token_dir, \"kaggle.json\"), \"w\") as file:\n",
    "    file.write(f'{{\"username\": \"{kaggle_credentials['username']}\", \"key\": \"{kaggle_credentials['key']}\"}}')"
   ]
  },
  {
   "cell_type": "markdown",
   "metadata": {},
   "source": [
    "### Step 3: Use Kaggle API to download files"
   ]
  },
  {
   "cell_type": "markdown",
   "metadata": {},
   "source": [
    "Running the cell below will download the images and the annotation file (which includes the image metadata) into the following folder: `data/TACO`. The size of the dataset is 2.8 GB, please make sure you have this amount of storage space available locally."
   ]
  },
  {
   "cell_type": "code",
   "execution_count": 6,
   "metadata": {},
   "outputs": [
    {
     "name": "stdout",
     "output_type": "stream",
     "text": [
      "Warning: Your Kaggle API key is readable by other users on this system! To fix this, you can run 'chmod 600 /Users/sgpeytrignet/.kaggle/kaggle.json'\n",
      "Dataset URL: https://www.kaggle.com/datasets/kneroma/tacotrashdataset\n"
     ]
    }
   ],
   "source": [
    "from kaggle.api.kaggle_api_extended import KaggleApi\n",
    "\n",
    "# Initialize Kaggle API\n",
    "api = KaggleApi()\n",
    "# Authenticate with your Kaggle credentials\n",
    "api.authenticate()\n",
    "\n",
    "# This is the online location of the dataset\n",
    "dataset_name = 'kneroma/tacotrashdataset'\n",
    "\n",
    "# Download the dataset\n",
    "api.dataset_download_files(dataset_name, path='./TACO/', unzip=True)"
   ]
  },
  {
   "cell_type": "code",
   "execution_count": null,
   "metadata": {},
   "outputs": [],
   "source": [
    "# import opendatasets as od\n",
    "# od.download('https://www.kaggle.com/datasets/kneroma/tacotrashdataset')"
   ]
  }
 ],
 "metadata": {
  "kernelspec": {
   "display_name": "computer-vision-env",
   "language": "python",
   "name": "python3"
  },
  "language_info": {
   "codemirror_mode": {
    "name": "ipython",
    "version": 3
   },
   "file_extension": ".py",
   "mimetype": "text/x-python",
   "name": "python",
   "nbconvert_exporter": "python",
   "pygments_lexer": "ipython3",
   "version": "3.9.15"
  }
 },
 "nbformat": 4,
 "nbformat_minor": 2
}
