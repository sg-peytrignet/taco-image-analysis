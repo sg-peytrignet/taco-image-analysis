{
 "cells": [
  {
   "cell_type": "markdown",
   "metadata": {},
   "source": [
    "## Download TACO data"
   ]
  },
  {
   "cell_type": "markdown",
   "metadata": {},
   "source": [
    "### Option 1: Download directly"
   ]
  },
  {
   "cell_type": "markdown",
   "metadata": {},
   "source": [
    "You can download the raw data used in this analysis directly from the [TACO project](https://github.com/pedropro/TACO) repository. In our notebooks, we will be using a version of the dataset uploaded to Kaggle at the end of 2019."
   ]
  },
  {
   "cell_type": "markdown",
   "metadata": {},
   "source": [
    "Kaggle is a platform for data science enthusiasts and professionals to compete, collaborate, and learn through machine learning challenges and datasets. We suggest that you may manually download the files from this [TACO Kaggle repository](https://www.kaggle.com/datasets/kneroma/tacotrashdataset) by clicking on the **Download** button."
   ]
  },
  {
   "cell_type": "markdown",
   "metadata": {},
   "source": [
    "After downloading the files, move them to the `data/TACO` folder to mimic the structure below."
   ]
  },
  {
   "cell_type": "markdown",
   "metadata": {},
   "source": [
    "```plaintext\n",
    "project_root/\n",
    "│\n",
    "├── data/\n",
    "│   ├── TACO/\n",
    "│   │   ├── data/\n",
    "│   │   │   ├── batch1/\n",
    "│   │   │   ├── batch2/\n",
    "│   │   │   ├── batch3/\n",
    "│   │   │   ├── ...\n",
    "│   │   │   └── batch15/\n",
    "│   │   └── annotations.json\n",
    "│\n",
    "├── README.md\n",
    "├── environment.yml\n",
    "└── ...\n",
    "```"
   ]
  },
  {
   "cell_type": "markdown",
   "metadata": {},
   "source": [
    "### Option 2: Download using API"
   ]
  },
  {
   "cell_type": "markdown",
   "metadata": {},
   "source": [
    "If you wish to download the data using the Kaggle API, follow the steps below."
   ]
  },
  {
   "cell_type": "markdown",
   "metadata": {},
   "source": [
    "#### Step 1: Create Kaggle API token"
   ]
  },
  {
   "cell_type": "markdown",
   "metadata": {},
   "source": [
    "1. If you don't have one, create a [Kaggle](https://www.kaggle.com) account.\n",
    "2. Visit your Kaggle [account settings](https://www.kaggle.com/account/login?phase=startRegisterTab&returnUrl=%2F).\n",
    "2. Click on **Create New API Token**.\n",
    "3. Save the downloaded `kaggle.json` file containing your username and API key, and move this `kaggle.json` file to the `data` folder of this repository."
   ]
  },
  {
   "cell_type": "markdown",
   "metadata": {},
   "source": [
    "```plaintext\n",
    "project_root/\n",
    "│\n",
    "├── data/\n",
    "│   └──── kaggle.json\n",
    "│\n",
    "├── README.md\n",
    "├── environment.yml\n",
    "└── ...\n",
    "```"
   ]
  },
  {
   "cell_type": "code",
   "execution_count": 1,
   "metadata": {
    "execution": {
     "iopub.execute_input": "2024-05-11T11:26:56.765568Z",
     "iopub.status.busy": "2024-05-11T11:26:56.765254Z",
     "iopub.status.idle": "2024-05-11T11:26:57.166509Z",
     "shell.execute_reply": "2024-05-11T11:26:57.165812Z",
     "shell.execute_reply.started": "2024-05-11T11:26:56.765528Z"
    }
   },
   "outputs": [],
   "source": [
    "import os\n",
    "import pandas as pd\n",
    "\n",
    "# Retrieve directories where we will save the data\n",
    "parent_directory = os.path.abspath('../')\n",
    "data_directory = os.path.join(parent_directory,'data')\n",
    "\n",
    "# Store the API credentials\n",
    "file_path = os.path.join(data_directory, 'kaggle.json')\n",
    "kaggle_credentials = pd.read_json(file_path, typ='series')\n",
    "username = kaggle_credentials[\"username\"]\n",
    "api_key = kaggle_credentials[\"key\"]"
   ]
  },
  {
   "cell_type": "markdown",
   "metadata": {},
   "source": [
    "#### Step 2: Save token file in local user folder"
   ]
  },
  {
   "cell_type": "markdown",
   "metadata": {},
   "source": [
    "The token needs to be saved in a folder called `.kaggle` in your user directory (`username/.kaggle`). This folder will be hidden (notice that the folder name starts with a `.`)."
   ]
  },
  {
   "cell_type": "code",
   "execution_count": 2,
   "metadata": {
    "execution": {
     "iopub.execute_input": "2024-05-11T11:26:57.168962Z",
     "iopub.status.busy": "2024-05-11T11:26:57.168626Z",
     "iopub.status.idle": "2024-05-11T11:26:57.176046Z",
     "shell.execute_reply": "2024-05-11T11:26:57.175339Z",
     "shell.execute_reply.started": "2024-05-11T11:26:57.168923Z"
    }
   },
   "outputs": [],
   "source": [
    "# Save the credentials .json locally in a local folder, e.g. username/.kaggle/\n",
    "token_dir = os.path.expanduser(\"~/.kaggle\")  # Path to Kaggle config directory\n",
    "os.makedirs(token_dir, exist_ok=True)  # Create directory if it doesn't exist\n",
    "\n",
    "# Write API credentials to kaggle.json file\n",
    "with open(os.path.join(token_dir, \"kaggle.json\"), \"w\") as file:\n",
    "    file.write(f'{{\"username\": \"{username}\", \"key\": \"{api_key}\"}}')"
   ]
  },
  {
   "cell_type": "markdown",
   "metadata": {},
   "source": [
    "#### Step 3: Use Kaggle API to download files"
   ]
  },
  {
   "cell_type": "markdown",
   "metadata": {},
   "source": [
    "Running the cell below will download the images and the annotation file (which includes the image metadata) into the following folder: `data/TACO`. The size of the dataset is 2.8 GB, so please make sure you have this amount of storage space available locally."
   ]
  },
  {
   "cell_type": "code",
   "execution_count": 3,
   "metadata": {
    "execution": {
     "iopub.execute_input": "2024-05-11T11:26:57.177940Z",
     "iopub.status.busy": "2024-05-11T11:26:57.177406Z",
     "iopub.status.idle": "2024-05-11T11:26:57.181554Z",
     "shell.execute_reply": "2024-05-11T11:26:57.180669Z",
     "shell.execute_reply.started": "2024-05-11T11:26:57.177901Z"
    }
   },
   "outputs": [],
   "source": [
    "# Set to True if you wish to download the data, which can be time consuming\n",
    "download_files = False"
   ]
  },
  {
   "cell_type": "code",
   "execution_count": 4,
   "metadata": {
    "execution": {
     "iopub.execute_input": "2024-05-11T11:26:57.183612Z",
     "iopub.status.busy": "2024-05-11T11:26:57.183042Z",
     "iopub.status.idle": "2024-05-11T11:26:57.362241Z",
     "shell.execute_reply": "2024-05-11T11:26:57.361471Z",
     "shell.execute_reply.started": "2024-05-11T11:26:57.183542Z"
    },
    "tags": []
   },
   "outputs": [
    {
     "name": "stdout",
     "output_type": "stream",
     "text": [
      "Warning: Your Kaggle API key is readable by other users on this system! To fix this, you can run 'chmod 600 /home/jovyan/.kaggle/kaggle.json'\n",
      "Warning: Your Kaggle API key is readable by other users on this system! To fix this, you can run 'chmod 600 /home/jovyan/.kaggle/kaggle.json'\n"
     ]
    }
   ],
   "source": [
    "from kaggle.api.kaggle_api_extended import KaggleApi\n",
    "\n",
    "# Initialize Kaggle API\n",
    "api = KaggleApi()\n",
    "\n",
    "# Authenticate with your Kaggle credentials\n",
    "api.authenticate()\n",
    "\n",
    "# This is the online location of the dataset\n",
    "dataset_name = 'kneroma/tacotrashdataset'\n",
    "\n",
    "# Download the dataset if download_files is set to True\n",
    "if download_files:\n",
    "    api.dataset_download_files(dataset_name, path=os.path.join(data_directory,'TACO'), unzip=True)"
   ]
  }
 ],
 "metadata": {
  "kernelspec": {
   "display_name": "saturn (Python 3)",
   "language": "python",
   "name": "python3"
  },
  "language_info": {
   "codemirror_mode": {
    "name": "ipython",
    "version": 3
   },
   "file_extension": ".py",
   "mimetype": "text/x-python",
   "name": "python",
   "nbconvert_exporter": "python",
   "pygments_lexer": "ipython3",
   "version": "3.10.13"
  }
 },
 "nbformat": 4,
 "nbformat_minor": 4
}
