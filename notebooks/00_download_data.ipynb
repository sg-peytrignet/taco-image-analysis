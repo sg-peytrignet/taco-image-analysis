{
 "cells": [
  {
   "cell_type": "markdown",
   "metadata": {},
   "source": [
    "## Download TACO data"
   ]
  },
  {
   "cell_type": "markdown",
   "metadata": {},
   "source": [
    "### Option 1: Download directly"
   ]
  },
  {
   "cell_type": "markdown",
   "metadata": {},
   "source": [
    "Kaggle is a platform for data science enthusiasts and professionals to compete, collaborate, and learn through machine learning challenges and datasets.\n",
    "\n",
    "You may manually download the files we will be using in this analysis from the [TACO Kaggle repository](https://www.kaggle.com/datasets/kneroma/tacotrashdataset) by clicking on the **Download** button."
   ]
  },
  {
   "cell_type": "markdown",
   "metadata": {},
   "source": [
    "After downloading the files, move them to the `data/TACO` folder to mimic the structure below."
   ]
  },
  {
   "cell_type": "markdown",
   "metadata": {},
   "source": [
    "```plaintext\n",
    "project_root/\n",
    "│\n",
    "├── data/\n",
    "│   ├── TACO/\n",
    "│   │   ├── data/\n",
    "│   │   │   ├── batch1/\n",
    "│   │   │   ├── batch2/\n",
    "│   │   │   ├── batch3/\n",
    "│   │   │   ├── ...\n",
    "│   │   │   └── batch15/\n",
    "│   │   └── annotations.json\n",
    "│\n",
    "├── README.md\n",
    "├── environment.yml\n",
    "└── ..."
   ]
  },
  {
   "cell_type": "markdown",
   "metadata": {},
   "source": [
    "### Option 2: Download using API"
   ]
  },
  {
   "cell_type": "markdown",
   "metadata": {},
   "source": [
    "If you wish to download the data using the Kaggle API, follow the steps below."
   ]
  },
  {
   "cell_type": "markdown",
   "metadata": {},
   "source": [
    "#### Step 1: Create Kaggle API token"
   ]
  },
  {
   "cell_type": "markdown",
   "metadata": {},
   "source": [
    "1. If you don't have one, create a [Kaggle](https://www.kaggle.com) account.\n",
    "2. Visit your Kaggle [account settings](https://www.kaggle.com/account/login?phase=startRegisterTab&returnUrl=%2F).\n",
    "2. Click on **Create New API Token**.\n",
    "3. Save the downloaded `kaggle.json` file containing your username and API key, and move this `kaggle.json` file to the `data` folder of this repository."
   ]
  },
  {
   "cell_type": "markdown",
   "metadata": {},
   "source": [
    "```plaintext\n",
    "project_root/\n",
    "│\n",
    "├── data/\n",
    "│   └──── kaggle.json\n",
    "│\n",
    "├── README.md\n",
    "├── environment.yml\n",
    "└── ..."
   ]
  },
  {
   "cell_type": "code",
   "execution_count": 37,
   "metadata": {},
   "outputs": [],
   "source": [
    "import os\n",
    "import pandas as pd\n",
    "\n",
    "# Retrieve directories where we will save the data\n",
    "parent_directory = os.path.abspath('../')\n",
    "data_directory = os.path.join(parent_directory,'data')\n",
    "\n",
    "# Store the API credentials\n",
    "file_path = os.path.join(data_directory, 'kaggle.json')\n",
    "kaggle_credentials = pd.read_json(file_path, typ='series')\n",
    "username = kaggle_credentials[\"username\"]\n",
    "api_key = kaggle_credentials[\"key\"]"
   ]
  },
  {
   "cell_type": "markdown",
   "metadata": {},
   "source": [
    "#### Step 2: Save token file in local user folder"
   ]
  },
  {
   "cell_type": "markdown",
   "metadata": {},
   "source": [
    "The token needs to be saved in a folder called `.kaggle` in your user directory (`username/.kaggle`). This folder will be hidden (notice that the same starts with a `.`)."
   ]
  },
  {
   "cell_type": "code",
   "execution_count": null,
   "metadata": {},
   "outputs": [],
   "source": [
    "# Save the credentials .json locally in a local folder, e.g. username/.kaggle/\n",
    "token_dir = os.path.expanduser(\"~/.kaggle\")  # Path to Kaggle config directory\n",
    "os.makedirs(token_dir, exist_ok=True)  # Create directory if it doesn't exist\n",
    "\n",
    "# Write API credentials to kaggle.json file\n",
    "with open(os.path.join(token_dir, \"kaggle.json\"), \"w\") as file:\n",
    "    file.write(f'{{\"username\": \"{username}\", \"key\": \"{api_key}\"}}')"
   ]
  },
  {
   "cell_type": "markdown",
   "metadata": {},
   "source": [
    "#### Step 3: Use Kaggle API to download files"
   ]
  },
  {
   "cell_type": "markdown",
   "metadata": {},
   "source": [
    "Running the cell below will download the images and the annotation file (which includes the image metadata) into the following folder: `data/TACO`. The size of the dataset is 2.8 GB, please make sure you have this amount of storage space available locally."
   ]
  },
  {
   "cell_type": "code",
   "execution_count": null,
   "metadata": {},
   "outputs": [],
   "source": [
    "from tqdm import tqdm\n",
    "from kaggle.api.kaggle_api_extended import KaggleApi\n",
    "\n",
    "# Initialize Kaggle API\n",
    "api = KaggleApi()\n",
    "\n",
    "# Authenticate with your Kaggle credentials\n",
    "api.authenticate()\n",
    "\n",
    "# This is the online location of the dataset\n",
    "dataset_name = 'kneroma/tacotrashdataset'\n",
    "\n",
    "# # Download the dataset\n",
    "api.dataset_download_files(dataset_name, path=os.path.join(data_directory,'TACO'), unzip=True)"
   ]
  }
 ],
 "metadata": {
  "kernelspec": {
   "display_name": "computer-vision-env",
   "language": "python",
   "name": "python3"
  },
  "language_info": {
   "codemirror_mode": {
    "name": "ipython",
    "version": 3
   },
   "file_extension": ".py",
   "mimetype": "text/x-python",
   "name": "python",
   "nbconvert_exporter": "python",
   "pygments_lexer": "ipython3",
   "version": "3.9.15"
  }
 },
 "nbformat": 4,
 "nbformat_minor": 2
}
